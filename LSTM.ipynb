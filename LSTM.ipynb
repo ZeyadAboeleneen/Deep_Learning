{
  "nbformat": 4,
  "nbformat_minor": 0,
  "metadata": {
    "colab": {
      "provenance": [],
      "include_colab_link": true
    },
    "kernelspec": {
      "name": "python3",
      "display_name": "Python 3"
    },
    "language_info": {
      "name": "python"
    }
  },
  "cells": [
    {
      "cell_type": "markdown",
      "metadata": {
        "id": "view-in-github",
        "colab_type": "text"
      },
      "source": [
        "<a href=\"https://colab.research.google.com/github/ZeyadAboeleneen/Deep_Learning/blob/main/LSTM.ipynb\" target=\"_parent\"><img src=\"https://colab.research.google.com/assets/colab-badge.svg\" alt=\"Open In Colab\"/></a>"
      ]
    },
    {
      "cell_type": "code",
      "source": [
        "import numpy as np\n",
        "\n",
        "def sigmoid(x):\n",
        "    return 1 / (1 + np.exp(-x))\n",
        "\n",
        "def tanh(x):\n",
        "    return np.tanh(x)\n",
        "\n",
        "def lstm_cell(x, h_prev, C_prev, Wf, Wi, Wc, Wo, Whf, Whi, Whc, Who, bf, bi, bc, bo):\n",
        "    ft = sigmoid(Wf * x + Whf * h_prev + bf)\n",
        "    it = sigmoid(Wi * x + Whi * h_prev + bi)\n",
        "    Ct_tilde = tanh(Wc * x + Whc * h_prev + bc)\n",
        "    Ct = ft * C_prev + it * Ct_tilde\n",
        "    ot = sigmoid(Wo * x + Who * h_prev + bo)\n",
        "    ht = ot * tanh(Ct)\n",
        "\n",
        "    return ht, Ct\n",
        "\n",
        "Wf, Wi, Wc, Wo = 0.5, 0.6, 0.7, 0.8\n",
        "Whf, Whi, Whc, Who = 0.1, 0.2, 0.3, 0.4\n",
        "bf, bi, bc, bo = 0, 0, 0, 0\n",
        "Wy = 0.9\n",
        "by = 0\n",
        "\n",
        "h_prev, C_prev = 0.0, 0.0\n",
        "\n",
        "X = [1, 2, 3]\n",
        "y_target = 4\n",
        "\n",
        "\n",
        "learning_rate = 0.01\n",
        "epochs = 1000\n",
        "\n",
        "for epoch in range(epochs):\n",
        "    h_prev, C_prev = 0.0, 0.0\n",
        "\n",
        "    for t in range(len(X)):\n",
        "        x = X[t]\n",
        "        h_prev, C_prev = lstm_cell(x, h_prev, C_prev, Wf, Wi, Wc, Wo, Whf, Whi, Whc, Who, bf, bi, bc, bo)\n",
        "\n",
        "    y_pred = Wy * h_prev + by\n",
        "\n",
        "    error = (y_pred - y_target) ** 2\n",
        "\n",
        "    dWy = 2 * (y_pred - y_target) * h_prev\n",
        "    dby = 2 * (y_pred - y_target)\n",
        "\n",
        "    Wy -= learning_rate * dWy\n",
        "    by -= learning_rate * dby\n",
        "\n",
        "    if (epoch + 1) % 100 == 0:\n",
        "        print(f\"Epoch {epoch + 1}: Predicted Value = {y_pred:.4f}, error rate = {error:.4f}\")\n",
        "print(f\"Final Predicted Next Value: {y_pred:.4f}\")"
      ],
      "metadata": {
        "colab": {
          "base_uri": "https://localhost:8080/"
        },
        "id": "gAJYI4cuzEKu",
        "outputId": "4518d479-0e70-4d51-bd4f-13d861ba3c33"
      },
      "execution_count": 59,
      "outputs": [
        {
          "output_type": "stream",
          "name": "stdout",
          "text": [
            "Epoch 100: Predicted Value = 3.9070, error rate = 0.0086\n",
            "Epoch 200: Predicted Value = 3.9974, error rate = 0.0000\n",
            "Epoch 300: Predicted Value = 3.9999, error rate = 0.0000\n",
            "Epoch 400: Predicted Value = 4.0000, error rate = 0.0000\n",
            "Epoch 500: Predicted Value = 4.0000, error rate = 0.0000\n",
            "Epoch 600: Predicted Value = 4.0000, error rate = 0.0000\n",
            "Epoch 700: Predicted Value = 4.0000, error rate = 0.0000\n",
            "Epoch 800: Predicted Value = 4.0000, error rate = 0.0000\n",
            "Epoch 900: Predicted Value = 4.0000, error rate = 0.0000\n",
            "Epoch 1000: Predicted Value = 4.0000, error rate = 0.0000\n",
            "Final Predicted Next Value: 4.0000\n"
          ]
        }
      ]
    }
  ]
}